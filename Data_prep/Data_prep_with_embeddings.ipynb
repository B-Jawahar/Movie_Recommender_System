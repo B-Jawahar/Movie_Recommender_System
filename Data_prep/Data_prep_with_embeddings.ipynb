{
 "cells": [
  {
   "cell_type": "code",
   "execution_count": 1,
   "metadata": {},
   "outputs": [],
   "source": [
    "import pandas as pd\n",
    "import numpy as np\n",
    "\n",
    "movieF=pd.read_csv('C:/Users/jawahar/Documents/Data science/Project/Untitled Folder/movies_F.csv')\n",
    "movieS=pd.read_csv('C:/Users/jawahar/Documents/Data science/Project/Untitled Folder/movies_S.csv')"
   ]
  },
  {
   "cell_type": "code",
   "execution_count": 2,
   "metadata": {},
   "outputs": [],
   "source": [
    "final_movie=pd.concat([movieF, movieS], ignore_index=True)"
   ]
  },
  {
   "cell_type": "code",
   "execution_count": 3,
   "metadata": {},
   "outputs": [
    {
     "name": "stderr",
     "output_type": "stream",
     "text": [
      "c:\\Users\\jawahar\\Documents\\Data science\\Project\\RecSys\\RecSys\\lib\\site-packages\\tqdm\\auto.py:21: TqdmWarning: IProgress not found. Please update jupyter and ipywidgets. See https://ipywidgets.readthedocs.io/en/stable/user_install.html\n",
      "  from .autonotebook import tqdm as notebook_tqdm\n"
     ]
    }
   ],
   "source": [
    "from sentence_transformers import SentenceTransformer\n",
    "\n",
    "model = SentenceTransformer('all-MiniLM-L6-v2')"
   ]
  },
  {
   "cell_type": "code",
   "execution_count": 4,
   "metadata": {},
   "outputs": [],
   "source": [
    "final_movie['plot'] = final_movie['plot'].fillna(\"\")"
   ]
  },
  {
   "cell_type": "code",
   "execution_count": 5,
   "metadata": {},
   "outputs": [
    {
     "name": "stderr",
     "output_type": "stream",
     "text": [
      "c:\\Users\\jawahar\\Documents\\Data science\\Project\\RecSys\\RecSys\\lib\\site-packages\\torch\\nn\\modules\\module.py:1762: FutureWarning: `encoder_attention_mask` is deprecated and will be removed in version 4.55.0 for `BertSdpaSelfAttention.forward`.\n",
      "  return forward_call(*args, **kwargs)\n"
     ]
    }
   ],
   "source": [
    "final_movie['plot_embedding'] = final_movie['plot'].apply(lambda x: model.encode(x,convert_to_numpy=True))"
   ]
  },
  {
   "cell_type": "code",
   "execution_count": 6,
   "metadata": {},
   "outputs": [
    {
     "data": {
      "text/html": [
       "<div>\n",
       "<style scoped>\n",
       "    .dataframe tbody tr th:only-of-type {\n",
       "        vertical-align: middle;\n",
       "    }\n",
       "\n",
       "    .dataframe tbody tr th {\n",
       "        vertical-align: top;\n",
       "    }\n",
       "\n",
       "    .dataframe thead th {\n",
       "        text-align: right;\n",
       "    }\n",
       "</style>\n",
       "<table border=\"1\" class=\"dataframe\">\n",
       "  <thead>\n",
       "    <tr style=\"text-align: right;\">\n",
       "      <th></th>\n",
       "      <th>Unnamed: 0.1</th>\n",
       "      <th>Unnamed: 0</th>\n",
       "      <th>title</th>\n",
       "      <th>year</th>\n",
       "      <th>imdb_rating</th>\n",
       "      <th>metascore</th>\n",
       "      <th>votes</th>\n",
       "      <th>genre</th>\n",
       "      <th>runtime</th>\n",
       "      <th>certificates</th>\n",
       "      <th>img_url</th>\n",
       "      <th>plot</th>\n",
       "      <th>plot_embedding</th>\n",
       "    </tr>\n",
       "  </thead>\n",
       "  <tbody>\n",
       "    <tr>\n",
       "      <th>0</th>\n",
       "      <td>0</td>\n",
       "      <td>0</td>\n",
       "      <td>Psycho</td>\n",
       "      <td>1960</td>\n",
       "      <td>8.5</td>\n",
       "      <td>97.0</td>\n",
       "      <td>758866</td>\n",
       "      <td>['Drama', 'Horror', 'Mystery']</td>\n",
       "      <td>6540.0</td>\n",
       "      <td>R</td>\n",
       "      <td>https://m.media-amazon.com/images/M/MV5BYjZhMz...</td>\n",
       "      <td>A secretary on the run for embezzlement takes ...</td>\n",
       "      <td>[-0.025498573, 0.046960022, -0.041405685, 0.06...</td>\n",
       "    </tr>\n",
       "    <tr>\n",
       "      <th>1</th>\n",
       "      <td>1</td>\n",
       "      <td>1</td>\n",
       "      <td>The Apartment</td>\n",
       "      <td>1960</td>\n",
       "      <td>8.3</td>\n",
       "      <td>94.0</td>\n",
       "      <td>210681</td>\n",
       "      <td>['Comedy', 'Drama', 'Romance']</td>\n",
       "      <td>7500.0</td>\n",
       "      <td>Approved</td>\n",
       "      <td>https://m.media-amazon.com/images/M/MV5BNDdhMz...</td>\n",
       "      <td>A Manhattan insurance clerk tries to rise in h...</td>\n",
       "      <td>[0.012486427, 0.012657471, -0.027960727, -0.02...</td>\n",
       "    </tr>\n",
       "    <tr>\n",
       "      <th>2</th>\n",
       "      <td>2</td>\n",
       "      <td>2</td>\n",
       "      <td>Spartacus</td>\n",
       "      <td>1960</td>\n",
       "      <td>7.9</td>\n",
       "      <td>87.0</td>\n",
       "      <td>148871</td>\n",
       "      <td>['Adventure', 'Biography', 'Drama']</td>\n",
       "      <td>11820.0</td>\n",
       "      <td>PG-13</td>\n",
       "      <td>https://m.media-amazon.com/images/M/MV5BMTcyOT...</td>\n",
       "      <td>The slave Spartacus survives brutal training a...</td>\n",
       "      <td>[-0.034061685, 0.029615097, -0.019052375, -0.0...</td>\n",
       "    </tr>\n",
       "    <tr>\n",
       "      <th>3</th>\n",
       "      <td>3</td>\n",
       "      <td>3</td>\n",
       "      <td>The Magnificent Seven</td>\n",
       "      <td>1960</td>\n",
       "      <td>7.7</td>\n",
       "      <td>74.0</td>\n",
       "      <td>107555</td>\n",
       "      <td>['Action', 'Adventure', 'Drama']</td>\n",
       "      <td>7680.0</td>\n",
       "      <td>Approved</td>\n",
       "      <td>https://m.media-amazon.com/images/M/MV5BMzYyNz...</td>\n",
       "      <td>Seven gunfighters are hired by Mexican peasant...</td>\n",
       "      <td>[-0.032821186, 0.020097407, -0.10404044, 0.052...</td>\n",
       "    </tr>\n",
       "    <tr>\n",
       "      <th>4</th>\n",
       "      <td>4</td>\n",
       "      <td>4</td>\n",
       "      <td>À bout de souffle</td>\n",
       "      <td>1960</td>\n",
       "      <td>7.7</td>\n",
       "      <td>96.0</td>\n",
       "      <td>91699</td>\n",
       "      <td>['Crime', 'Drama']</td>\n",
       "      <td>5400.0</td>\n",
       "      <td>Not Rated</td>\n",
       "      <td>https://m.media-amazon.com/images/M/MV5BZGI5MW...</td>\n",
       "      <td>A small-time crook, hunted by the authorities ...</td>\n",
       "      <td>[0.009688734, 0.06871374, -0.021408405, 0.0068...</td>\n",
       "    </tr>\n",
       "  </tbody>\n",
       "</table>\n",
       "</div>"
      ],
      "text/plain": [
       "   Unnamed: 0.1  Unnamed: 0                  title  year  imdb_rating  \\\n",
       "0             0           0                 Psycho  1960          8.5   \n",
       "1             1           1          The Apartment  1960          8.3   \n",
       "2             2           2              Spartacus  1960          7.9   \n",
       "3             3           3  The Magnificent Seven  1960          7.7   \n",
       "4             4           4      À bout de souffle  1960          7.7   \n",
       "\n",
       "   metascore   votes                                genre  runtime  \\\n",
       "0       97.0  758866       ['Drama', 'Horror', 'Mystery']   6540.0   \n",
       "1       94.0  210681       ['Comedy', 'Drama', 'Romance']   7500.0   \n",
       "2       87.0  148871  ['Adventure', 'Biography', 'Drama']  11820.0   \n",
       "3       74.0  107555     ['Action', 'Adventure', 'Drama']   7680.0   \n",
       "4       96.0   91699                   ['Crime', 'Drama']   5400.0   \n",
       "\n",
       "  certificates                                            img_url  \\\n",
       "0            R  https://m.media-amazon.com/images/M/MV5BYjZhMz...   \n",
       "1     Approved  https://m.media-amazon.com/images/M/MV5BNDdhMz...   \n",
       "2        PG-13  https://m.media-amazon.com/images/M/MV5BMTcyOT...   \n",
       "3     Approved  https://m.media-amazon.com/images/M/MV5BMzYyNz...   \n",
       "4    Not Rated  https://m.media-amazon.com/images/M/MV5BZGI5MW...   \n",
       "\n",
       "                                                plot  \\\n",
       "0  A secretary on the run for embezzlement takes ...   \n",
       "1  A Manhattan insurance clerk tries to rise in h...   \n",
       "2  The slave Spartacus survives brutal training a...   \n",
       "3  Seven gunfighters are hired by Mexican peasant...   \n",
       "4  A small-time crook, hunted by the authorities ...   \n",
       "\n",
       "                                      plot_embedding  \n",
       "0  [-0.025498573, 0.046960022, -0.041405685, 0.06...  \n",
       "1  [0.012486427, 0.012657471, -0.027960727, -0.02...  \n",
       "2  [-0.034061685, 0.029615097, -0.019052375, -0.0...  \n",
       "3  [-0.032821186, 0.020097407, -0.10404044, 0.052...  \n",
       "4  [0.009688734, 0.06871374, -0.021408405, 0.0068...  "
      ]
     },
     "execution_count": 6,
     "metadata": {},
     "output_type": "execute_result"
    }
   ],
   "source": [
    "final_movie.head()"
   ]
  },
  {
   "cell_type": "code",
   "execution_count": 7,
   "metadata": {},
   "outputs": [],
   "source": [
    "from sklearn.metrics.pairwise import cosine_similarity"
   ]
  },
  {
   "cell_type": "code",
   "execution_count": 14,
   "metadata": {},
   "outputs": [],
   "source": [
    "x=cosine_similarity(final_movie.iloc[0]['plot_embedding'].reshape(1, -1), final_movie.iloc[1]['plot_embedding'].reshape(1, -1))"
   ]
  },
  {
   "cell_type": "code",
   "execution_count": 16,
   "metadata": {},
   "outputs": [
    {
     "data": {
      "text/plain": [
       "np.float32(0.22674529)"
      ]
     },
     "execution_count": 16,
     "metadata": {},
     "output_type": "execute_result"
    }
   ],
   "source": [
    "x[0][0]"
   ]
  },
  {
   "cell_type": "code",
   "execution_count": 18,
   "metadata": {},
   "outputs": [],
   "source": [
    "def hybrid_similarity(movie_a, movie_b):\n",
    "    # Genre overlap score\n",
    "    genre_overlap = len(set(movie_a['genre']) & set(movie_b['genre'])) / max(len(movie_a['genre']), 1)\n",
    "\n",
    "    # Year distance penalty\n",
    "    year_distance = abs(movie_a['year'] - movie_b['year'])\n",
    "    year_score = max(0, 1 - year_distance / 10)  # decay if over 10 years\n",
    "\n",
    "    # Certificate match\n",
    "    certificate_score = 1 if movie_a['certificates'] == movie_b['certificates'] else 0\n",
    "\n",
    "    # Metascore similarity (scaled to [0,1])\n",
    "    meta_diff = abs(movie_a['metascore'] - movie_b['metascore']) / 100 if not np.isnan(movie_a['metascore']) and not np.isnan(movie_b['metascore']) else 1\n",
    "    metascore_score = 1 - meta_diff\n",
    "\n",
    "    # Popularity scaling (log to compress range)\n",
    "    pop_score = min(np.log1p(movie_b['votes']) / np.log1p(movie_a['votes']), 1.0)\n",
    "\n",
    "    # Plot similarity (cosine)\n",
    "    plot_sim = cosine_similarity(\n",
    "        movie_a['plot_embedding'].reshape(1, -1),\n",
    "        movie_b['plot_embedding'].reshape(1, -1)\n",
    "    )[0][0]\n",
    "\n",
    "    # Weighted hybrid score\n",
    "    final_score = (\n",
    "        0.3 * plot_sim +\n",
    "        0.2 * genre_overlap +\n",
    "        0.1 * year_score +\n",
    "        0.1 * certificate_score +\n",
    "        0.1 * metascore_score +\n",
    "        0.2 * pop_score\n",
    "    )\n",
    "\n",
    "    return final_score"
   ]
  },
  {
   "cell_type": "code",
   "execution_count": 21,
   "metadata": {},
   "outputs": [
    {
     "data": {
      "text/plain": [
       "np.float64(0.4647841921760384)"
      ]
     },
     "execution_count": 21,
     "metadata": {},
     "output_type": "execute_result"
    }
   ],
   "source": [
    "hybrid_similarity(final_movie.iloc[0],final_movie.iloc[3])"
   ]
  },
  {
   "cell_type": "code",
   "execution_count": 22,
   "metadata": {},
   "outputs": [],
   "source": [
    "final_movie.to_csv('C:/Users/jawahar/Documents/Data science/Project/Untitled Folder/final_movie_with_Sent_embedding.csv', index=False)"
   ]
  },
  {
   "cell_type": "code",
   "execution_count": 27,
   "metadata": {},
   "outputs": [
    {
     "data": {
      "text/plain": [
       "(32500, 13)"
      ]
     },
     "execution_count": 27,
     "metadata": {},
     "output_type": "execute_result"
    }
   ],
   "source": [
    "final_movie.shape"
   ]
  },
  {
   "cell_type": "code",
   "execution_count": 28,
   "metadata": {},
   "outputs": [],
   "source": [
    "def recommend_movies(df, title, top_n=5):\n",
    "    target_movie = df[df['title'] == title].iloc[0]\n",
    "\n",
    "    scores = []\n",
    "    for idx, row in df.iterrows():\n",
    "        if row['title'] == title:\n",
    "            continue\n",
    "        score = hybrid_similarity(target_movie, row)\n",
    "        scores.append((row['title'], score))\n",
    "\n",
    "    ranked = sorted(scores, key=lambda x: x[1], reverse=True)\n",
    "    return ranked[:top_n]\n"
   ]
  },
  {
   "cell_type": "code",
   "execution_count": 29,
   "metadata": {},
   "outputs": [
    {
     "data": {
      "text/plain": [
       "[('The Dark Knight Rises', np.float64(0.7032975960730578)),\n",
       " ('Batman Begins', np.float64(0.7006100155388766)),\n",
       " ('The Incredible Hulk', np.float64(0.6598712909015052)),\n",
       " ('The Bourne Ultimatum', np.float64(0.6518550915002945)),\n",
       " ('Star Wars: Episode III - Revenge of the Sith',\n",
       "  np.float64(0.6464297344492258))]"
      ]
     },
     "execution_count": 29,
     "metadata": {},
     "output_type": "execute_result"
    }
   ],
   "source": [
    "recommend_movies(final_movie, 'The Dark Knight', top_n=5)"
   ]
  },
  {
   "cell_type": "code",
   "execution_count": 32,
   "metadata": {},
   "outputs": [
    {
     "data": {
      "text/plain": [
       "(16102, 13)"
      ]
     },
     "execution_count": 32,
     "metadata": {},
     "output_type": "execute_result"
    }
   ],
   "source": [
    "final_movie[final_movie['votes']>5000].shape"
   ]
  },
  {
   "cell_type": "code",
   "execution_count": 33,
   "metadata": {},
   "outputs": [
    {
     "data": {
      "text/plain": [
       "[('The Dark Knight Rises', np.float64(0.7032975960730578)),\n",
       " ('Batman Begins', np.float64(0.7006100155388766)),\n",
       " ('The Incredible Hulk', np.float64(0.6598712909015052)),\n",
       " ('The Bourne Ultimatum', np.float64(0.6518550915002945)),\n",
       " ('Star Wars: Episode III - Revenge of the Sith',\n",
       "  np.float64(0.6464297344492258))]"
      ]
     },
     "execution_count": 33,
     "metadata": {},
     "output_type": "execute_result"
    }
   ],
   "source": [
    "recommend_movies(final_movie[final_movie['votes']>5000], 'The Dark Knight', top_n=5)"
   ]
  },
  {
   "cell_type": "code",
   "execution_count": 34,
   "metadata": {},
   "outputs": [],
   "source": [
    "from sklearn.feature_extraction.text import CountVectorizer"
   ]
  },
  {
   "cell_type": "code",
   "execution_count": 35,
   "metadata": {},
   "outputs": [],
   "source": [
    "genre=final_movie['genre'].tolist()"
   ]
  },
  {
   "cell_type": "code",
   "execution_count": 37,
   "metadata": {},
   "outputs": [],
   "source": [
    "vect=CountVectorizer().fit(genre)"
   ]
  },
  {
   "cell_type": "code",
   "execution_count": 40,
   "metadata": {},
   "outputs": [
    {
     "data": {
      "text/plain": [
       "array(['action', 'adventure', 'animation', 'biography', 'comedy', 'crime',\n",
       "       'documentary', 'drama', 'family', 'fantasy', 'fi', 'history',\n",
       "       'horror', 'music', 'musical', 'mystery', 'news', 'romance', 'sci',\n",
       "       'sport', 'thriller', 'war', 'western'], dtype=object)"
      ]
     },
     "execution_count": 40,
     "metadata": {},
     "output_type": "execute_result"
    }
   ],
   "source": [
    "columns=vect.get_feature_names_out()\n",
    "columns"
   ]
  },
  {
   "cell_type": "code",
   "execution_count": 42,
   "metadata": {},
   "outputs": [],
   "source": [
    "genre_vect=vect.transform(final_movie['genre'])\n",
    "genre_df=pd.DataFrame(genre_vect.toarray(),columns=columns)\n"
   ]
  },
  {
   "cell_type": "code",
   "execution_count": 43,
   "metadata": {},
   "outputs": [
    {
     "data": {
      "text/html": [
       "<div>\n",
       "<style scoped>\n",
       "    .dataframe tbody tr th:only-of-type {\n",
       "        vertical-align: middle;\n",
       "    }\n",
       "\n",
       "    .dataframe tbody tr th {\n",
       "        vertical-align: top;\n",
       "    }\n",
       "\n",
       "    .dataframe thead th {\n",
       "        text-align: right;\n",
       "    }\n",
       "</style>\n",
       "<table border=\"1\" class=\"dataframe\">\n",
       "  <thead>\n",
       "    <tr style=\"text-align: right;\">\n",
       "      <th></th>\n",
       "      <th>action</th>\n",
       "      <th>adventure</th>\n",
       "      <th>animation</th>\n",
       "      <th>biography</th>\n",
       "      <th>comedy</th>\n",
       "      <th>crime</th>\n",
       "      <th>documentary</th>\n",
       "      <th>drama</th>\n",
       "      <th>family</th>\n",
       "      <th>fantasy</th>\n",
       "      <th>...</th>\n",
       "      <th>music</th>\n",
       "      <th>musical</th>\n",
       "      <th>mystery</th>\n",
       "      <th>news</th>\n",
       "      <th>romance</th>\n",
       "      <th>sci</th>\n",
       "      <th>sport</th>\n",
       "      <th>thriller</th>\n",
       "      <th>war</th>\n",
       "      <th>western</th>\n",
       "    </tr>\n",
       "  </thead>\n",
       "  <tbody>\n",
       "    <tr>\n",
       "      <th>0</th>\n",
       "      <td>0</td>\n",
       "      <td>0</td>\n",
       "      <td>0</td>\n",
       "      <td>0</td>\n",
       "      <td>0</td>\n",
       "      <td>0</td>\n",
       "      <td>0</td>\n",
       "      <td>1</td>\n",
       "      <td>0</td>\n",
       "      <td>0</td>\n",
       "      <td>...</td>\n",
       "      <td>0</td>\n",
       "      <td>0</td>\n",
       "      <td>1</td>\n",
       "      <td>0</td>\n",
       "      <td>0</td>\n",
       "      <td>0</td>\n",
       "      <td>0</td>\n",
       "      <td>0</td>\n",
       "      <td>0</td>\n",
       "      <td>0</td>\n",
       "    </tr>\n",
       "    <tr>\n",
       "      <th>1</th>\n",
       "      <td>0</td>\n",
       "      <td>0</td>\n",
       "      <td>0</td>\n",
       "      <td>0</td>\n",
       "      <td>1</td>\n",
       "      <td>0</td>\n",
       "      <td>0</td>\n",
       "      <td>1</td>\n",
       "      <td>0</td>\n",
       "      <td>0</td>\n",
       "      <td>...</td>\n",
       "      <td>0</td>\n",
       "      <td>0</td>\n",
       "      <td>0</td>\n",
       "      <td>0</td>\n",
       "      <td>1</td>\n",
       "      <td>0</td>\n",
       "      <td>0</td>\n",
       "      <td>0</td>\n",
       "      <td>0</td>\n",
       "      <td>0</td>\n",
       "    </tr>\n",
       "    <tr>\n",
       "      <th>2</th>\n",
       "      <td>0</td>\n",
       "      <td>1</td>\n",
       "      <td>0</td>\n",
       "      <td>1</td>\n",
       "      <td>0</td>\n",
       "      <td>0</td>\n",
       "      <td>0</td>\n",
       "      <td>1</td>\n",
       "      <td>0</td>\n",
       "      <td>0</td>\n",
       "      <td>...</td>\n",
       "      <td>0</td>\n",
       "      <td>0</td>\n",
       "      <td>0</td>\n",
       "      <td>0</td>\n",
       "      <td>0</td>\n",
       "      <td>0</td>\n",
       "      <td>0</td>\n",
       "      <td>0</td>\n",
       "      <td>0</td>\n",
       "      <td>0</td>\n",
       "    </tr>\n",
       "    <tr>\n",
       "      <th>3</th>\n",
       "      <td>1</td>\n",
       "      <td>1</td>\n",
       "      <td>0</td>\n",
       "      <td>0</td>\n",
       "      <td>0</td>\n",
       "      <td>0</td>\n",
       "      <td>0</td>\n",
       "      <td>1</td>\n",
       "      <td>0</td>\n",
       "      <td>0</td>\n",
       "      <td>...</td>\n",
       "      <td>0</td>\n",
       "      <td>0</td>\n",
       "      <td>0</td>\n",
       "      <td>0</td>\n",
       "      <td>0</td>\n",
       "      <td>0</td>\n",
       "      <td>0</td>\n",
       "      <td>0</td>\n",
       "      <td>0</td>\n",
       "      <td>0</td>\n",
       "    </tr>\n",
       "    <tr>\n",
       "      <th>4</th>\n",
       "      <td>0</td>\n",
       "      <td>0</td>\n",
       "      <td>0</td>\n",
       "      <td>0</td>\n",
       "      <td>0</td>\n",
       "      <td>1</td>\n",
       "      <td>0</td>\n",
       "      <td>1</td>\n",
       "      <td>0</td>\n",
       "      <td>0</td>\n",
       "      <td>...</td>\n",
       "      <td>0</td>\n",
       "      <td>0</td>\n",
       "      <td>0</td>\n",
       "      <td>0</td>\n",
       "      <td>0</td>\n",
       "      <td>0</td>\n",
       "      <td>0</td>\n",
       "      <td>0</td>\n",
       "      <td>0</td>\n",
       "      <td>0</td>\n",
       "    </tr>\n",
       "  </tbody>\n",
       "</table>\n",
       "<p>5 rows × 23 columns</p>\n",
       "</div>"
      ],
      "text/plain": [
       "   action  adventure  animation  biography  comedy  crime  documentary  drama  \\\n",
       "0       0          0          0          0       0      0            0      1   \n",
       "1       0          0          0          0       1      0            0      1   \n",
       "2       0          1          0          1       0      0            0      1   \n",
       "3       1          1          0          0       0      0            0      1   \n",
       "4       0          0          0          0       0      1            0      1   \n",
       "\n",
       "   family  fantasy  ...  music  musical  mystery  news  romance  sci  sport  \\\n",
       "0       0        0  ...      0        0        1     0        0    0      0   \n",
       "1       0        0  ...      0        0        0     0        1    0      0   \n",
       "2       0        0  ...      0        0        0     0        0    0      0   \n",
       "3       0        0  ...      0        0        0     0        0    0      0   \n",
       "4       0        0  ...      0        0        0     0        0    0      0   \n",
       "\n",
       "   thriller  war  western  \n",
       "0         0    0        0  \n",
       "1         0    0        0  \n",
       "2         0    0        0  \n",
       "3         0    0        0  \n",
       "4         0    0        0  \n",
       "\n",
       "[5 rows x 23 columns]"
      ]
     },
     "execution_count": 43,
     "metadata": {},
     "output_type": "execute_result"
    }
   ],
   "source": [
    "genre_df.head()"
   ]
  },
  {
   "cell_type": "code",
   "execution_count": 44,
   "metadata": {},
   "outputs": [],
   "source": [
    "final_movie.reset_index(inplace=True)\n",
    "movie_genre=pd.merge(final_movie,genre_df,how='outer',left_index=True,right_index=True)"
   ]
  },
  {
   "cell_type": "code",
   "execution_count": 49,
   "metadata": {},
   "outputs": [],
   "source": [
    "movie_genre.drop(columns=['Unnamed: 0'],inplace=True)"
   ]
  },
  {
   "cell_type": "code",
   "execution_count": 50,
   "metadata": {},
   "outputs": [
    {
     "data": {
      "text/html": [
       "<div>\n",
       "<style scoped>\n",
       "    .dataframe tbody tr th:only-of-type {\n",
       "        vertical-align: middle;\n",
       "    }\n",
       "\n",
       "    .dataframe tbody tr th {\n",
       "        vertical-align: top;\n",
       "    }\n",
       "\n",
       "    .dataframe thead th {\n",
       "        text-align: right;\n",
       "    }\n",
       "</style>\n",
       "<table border=\"1\" class=\"dataframe\">\n",
       "  <thead>\n",
       "    <tr style=\"text-align: right;\">\n",
       "      <th></th>\n",
       "      <th>index</th>\n",
       "      <th>title</th>\n",
       "      <th>year</th>\n",
       "      <th>imdb_rating</th>\n",
       "      <th>metascore</th>\n",
       "      <th>votes</th>\n",
       "      <th>genre</th>\n",
       "      <th>runtime</th>\n",
       "      <th>certificates</th>\n",
       "      <th>img_url</th>\n",
       "      <th>...</th>\n",
       "      <th>music</th>\n",
       "      <th>musical</th>\n",
       "      <th>mystery</th>\n",
       "      <th>news</th>\n",
       "      <th>romance</th>\n",
       "      <th>sci</th>\n",
       "      <th>sport</th>\n",
       "      <th>thriller</th>\n",
       "      <th>war</th>\n",
       "      <th>western</th>\n",
       "    </tr>\n",
       "  </thead>\n",
       "  <tbody>\n",
       "    <tr>\n",
       "      <th>0</th>\n",
       "      <td>0</td>\n",
       "      <td>Psycho</td>\n",
       "      <td>1960</td>\n",
       "      <td>8.5</td>\n",
       "      <td>97.0</td>\n",
       "      <td>758866</td>\n",
       "      <td>['Drama', 'Horror', 'Mystery']</td>\n",
       "      <td>6540.0</td>\n",
       "      <td>R</td>\n",
       "      <td>https://m.media-amazon.com/images/M/MV5BYjZhMz...</td>\n",
       "      <td>...</td>\n",
       "      <td>0</td>\n",
       "      <td>0</td>\n",
       "      <td>1</td>\n",
       "      <td>0</td>\n",
       "      <td>0</td>\n",
       "      <td>0</td>\n",
       "      <td>0</td>\n",
       "      <td>0</td>\n",
       "      <td>0</td>\n",
       "      <td>0</td>\n",
       "    </tr>\n",
       "    <tr>\n",
       "      <th>1</th>\n",
       "      <td>1</td>\n",
       "      <td>The Apartment</td>\n",
       "      <td>1960</td>\n",
       "      <td>8.3</td>\n",
       "      <td>94.0</td>\n",
       "      <td>210681</td>\n",
       "      <td>['Comedy', 'Drama', 'Romance']</td>\n",
       "      <td>7500.0</td>\n",
       "      <td>Approved</td>\n",
       "      <td>https://m.media-amazon.com/images/M/MV5BNDdhMz...</td>\n",
       "      <td>...</td>\n",
       "      <td>0</td>\n",
       "      <td>0</td>\n",
       "      <td>0</td>\n",
       "      <td>0</td>\n",
       "      <td>1</td>\n",
       "      <td>0</td>\n",
       "      <td>0</td>\n",
       "      <td>0</td>\n",
       "      <td>0</td>\n",
       "      <td>0</td>\n",
       "    </tr>\n",
       "    <tr>\n",
       "      <th>2</th>\n",
       "      <td>2</td>\n",
       "      <td>Spartacus</td>\n",
       "      <td>1960</td>\n",
       "      <td>7.9</td>\n",
       "      <td>87.0</td>\n",
       "      <td>148871</td>\n",
       "      <td>['Adventure', 'Biography', 'Drama']</td>\n",
       "      <td>11820.0</td>\n",
       "      <td>PG-13</td>\n",
       "      <td>https://m.media-amazon.com/images/M/MV5BMTcyOT...</td>\n",
       "      <td>...</td>\n",
       "      <td>0</td>\n",
       "      <td>0</td>\n",
       "      <td>0</td>\n",
       "      <td>0</td>\n",
       "      <td>0</td>\n",
       "      <td>0</td>\n",
       "      <td>0</td>\n",
       "      <td>0</td>\n",
       "      <td>0</td>\n",
       "      <td>0</td>\n",
       "    </tr>\n",
       "    <tr>\n",
       "      <th>3</th>\n",
       "      <td>3</td>\n",
       "      <td>The Magnificent Seven</td>\n",
       "      <td>1960</td>\n",
       "      <td>7.7</td>\n",
       "      <td>74.0</td>\n",
       "      <td>107555</td>\n",
       "      <td>['Action', 'Adventure', 'Drama']</td>\n",
       "      <td>7680.0</td>\n",
       "      <td>Approved</td>\n",
       "      <td>https://m.media-amazon.com/images/M/MV5BMzYyNz...</td>\n",
       "      <td>...</td>\n",
       "      <td>0</td>\n",
       "      <td>0</td>\n",
       "      <td>0</td>\n",
       "      <td>0</td>\n",
       "      <td>0</td>\n",
       "      <td>0</td>\n",
       "      <td>0</td>\n",
       "      <td>0</td>\n",
       "      <td>0</td>\n",
       "      <td>0</td>\n",
       "    </tr>\n",
       "    <tr>\n",
       "      <th>4</th>\n",
       "      <td>4</td>\n",
       "      <td>À bout de souffle</td>\n",
       "      <td>1960</td>\n",
       "      <td>7.7</td>\n",
       "      <td>96.0</td>\n",
       "      <td>91699</td>\n",
       "      <td>['Crime', 'Drama']</td>\n",
       "      <td>5400.0</td>\n",
       "      <td>Not Rated</td>\n",
       "      <td>https://m.media-amazon.com/images/M/MV5BZGI5MW...</td>\n",
       "      <td>...</td>\n",
       "      <td>0</td>\n",
       "      <td>0</td>\n",
       "      <td>0</td>\n",
       "      <td>0</td>\n",
       "      <td>0</td>\n",
       "      <td>0</td>\n",
       "      <td>0</td>\n",
       "      <td>0</td>\n",
       "      <td>0</td>\n",
       "      <td>0</td>\n",
       "    </tr>\n",
       "  </tbody>\n",
       "</table>\n",
       "<p>5 rows × 35 columns</p>\n",
       "</div>"
      ],
      "text/plain": [
       "   index                  title  year  imdb_rating  metascore   votes  \\\n",
       "0      0                 Psycho  1960          8.5       97.0  758866   \n",
       "1      1          The Apartment  1960          8.3       94.0  210681   \n",
       "2      2              Spartacus  1960          7.9       87.0  148871   \n",
       "3      3  The Magnificent Seven  1960          7.7       74.0  107555   \n",
       "4      4      À bout de souffle  1960          7.7       96.0   91699   \n",
       "\n",
       "                                 genre  runtime certificates  \\\n",
       "0       ['Drama', 'Horror', 'Mystery']   6540.0            R   \n",
       "1       ['Comedy', 'Drama', 'Romance']   7500.0     Approved   \n",
       "2  ['Adventure', 'Biography', 'Drama']  11820.0        PG-13   \n",
       "3     ['Action', 'Adventure', 'Drama']   7680.0     Approved   \n",
       "4                   ['Crime', 'Drama']   5400.0    Not Rated   \n",
       "\n",
       "                                             img_url  ... music musical  \\\n",
       "0  https://m.media-amazon.com/images/M/MV5BYjZhMz...  ...     0       0   \n",
       "1  https://m.media-amazon.com/images/M/MV5BNDdhMz...  ...     0       0   \n",
       "2  https://m.media-amazon.com/images/M/MV5BMTcyOT...  ...     0       0   \n",
       "3  https://m.media-amazon.com/images/M/MV5BMzYyNz...  ...     0       0   \n",
       "4  https://m.media-amazon.com/images/M/MV5BZGI5MW...  ...     0       0   \n",
       "\n",
       "   mystery  news  romance  sci  sport  thriller  war  western  \n",
       "0        1     0        0    0      0         0    0        0  \n",
       "1        0     0        1    0      0         0    0        0  \n",
       "2        0     0        0    0      0         0    0        0  \n",
       "3        0     0        0    0      0         0    0        0  \n",
       "4        0     0        0    0      0         0    0        0  \n",
       "\n",
       "[5 rows x 35 columns]"
      ]
     },
     "execution_count": 50,
     "metadata": {},
     "output_type": "execute_result"
    }
   ],
   "source": [
    "movie_genre.head()"
   ]
  },
  {
   "cell_type": "code",
   "execution_count": 51,
   "metadata": {},
   "outputs": [
    {
     "data": {
      "text/plain": [
       "array(['action', 'adventure', 'animation', 'biography', 'comedy', 'crime',\n",
       "       'documentary', 'drama', 'family', 'fantasy', 'fi', 'history',\n",
       "       'horror', 'music', 'musical', 'mystery', 'news', 'romance', 'sci',\n",
       "       'sport', 'thriller', 'war', 'western'], dtype=object)"
      ]
     },
     "execution_count": 51,
     "metadata": {},
     "output_type": "execute_result"
    }
   ],
   "source": []
  },
  {
   "cell_type": "code",
   "execution_count": null,
   "metadata": {},
   "outputs": [],
   "source": []
  },
  {
   "cell_type": "code",
   "execution_count": null,
   "metadata": {},
   "outputs": [],
   "source": []
  },
  {
   "cell_type": "code",
   "execution_count": null,
   "metadata": {},
   "outputs": [],
   "source": []
  }
 ],
 "metadata": {
  "kernelspec": {
   "display_name": "RecSys",
   "language": "python",
   "name": "python3"
  },
  "language_info": {
   "codemirror_mode": {
    "name": "ipython",
    "version": 3
   },
   "file_extension": ".py",
   "mimetype": "text/x-python",
   "name": "python",
   "nbconvert_exporter": "python",
   "pygments_lexer": "ipython3",
   "version": "3.10.9"
  },
  "orig_nbformat": 4
 },
 "nbformat": 4,
 "nbformat_minor": 2
}
